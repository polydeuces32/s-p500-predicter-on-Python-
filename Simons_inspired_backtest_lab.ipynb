{
  "nbformat": 4,
  "nbformat_minor": 0,
  "metadata": {
    "colab": {
      "private_outputs": true,
      "provenance": [],
      "authorship_tag": "ABX9TyN2q5lWBLxQ4oozomBm0Kcv",
      "include_colab_link": true
    },
    "kernelspec": {
      "name": "python3",
      "display_name": "Python 3"
    },
    "language_info": {
      "name": "python"
    }
  },
  "cells": [
    {
      "cell_type": "markdown",
      "metadata": {
        "id": "view-in-github",
        "colab_type": "text"
      },
      "source": [
        "<a href=\"https://colab.research.google.com/github/polydeuces32/s-p500-predicter-on-Python-/blob/main/Simons_inspired_backtest_lab.ipynb\" target=\"_parent\"><img src=\"https://colab.research.google.com/assets/colab-badge.svg\" alt=\"Open In Colab\"/></a>"
      ]
    },
    {
      "cell_type": "markdown",
      "source": [
        "using a ration of 1.2 ( Quant Backtest Lab )"
      ],
      "metadata": {
        "id": "dO2jxnl-qY0y"
      }
    },
    {
      "cell_type": "code",
      "execution_count": null,
      "metadata": {
        "id": "tI86I6wGqLo3"
      },
      "outputs": [],
      "source": [
        "import yfinance as yf\n",
        "import pandas as pd\n",
        "import matplotlib.pyplot as plt\n",
        "import numpy as np\n",
        "\n",
        "# === CONFIG ===\n",
        "investment_amount = 5000\n",
        "trading_frequency = 'W'  # 'W' for weekly, 'D' for daily\n",
        "target_sharpe = 1.2\n",
        "\n",
        "# === 1. Download SPY data ===\n",
        "spy = yf.download('SPY', start='2015-01-01', end='2024-12-31')\n",
        "price_column = 'Adj Close' if 'Adj Close' in spy.columns else 'Close'\n",
        "spy['Price'] = spy[price_column]\n",
        "\n",
        "# === 2. Resample to weekly ===\n",
        "spy = spy.resample(trading_frequency).last()\n",
        "spy['Returns'] = spy['Price'].pct_change()\n",
        "\n",
        "# === 3. Indicators for mean reversion ===\n",
        "window = 20\n",
        "std_factor = 1.5\n",
        "spy['MA'] = spy['Price'].rolling(window).mean()\n",
        "spy['STD'] = spy['Price'].rolling(window).std()\n",
        "spy['LowerBand'] = spy['MA'] - std_factor * spy['STD']\n",
        "\n",
        "# === 4. Entry/Exit logic ===\n",
        "spy['Position'] = 0\n",
        "spy.loc[spy['Price'] < spy['LowerBand'], 'Position'] = 1\n",
        "spy.loc[spy['Price'] > spy['MA'], 'Position'] = 0\n",
        "spy['Position'] = spy['Position'].shift(1).fillna(0)\n",
        "\n",
        "# === 5. Strategy performance ===\n",
        "spy['Strategy_Returns'] = spy['Position'] * spy['Returns']\n",
        "spy['Cumulative_Strategy'] = (1 + spy['Strategy_Returns']).cumprod()\n",
        "spy['Cumulative_Market'] = (1 + spy['Returns']).cumprod()\n",
        "spy['Strategy_Value'] = spy['Cumulative_Strategy'] * investment_amount\n",
        "spy['Market_Value'] = spy['Cumulative_Market'] * investment_amount\n",
        "\n",
        "# === 6. Sharpe Ratio Calculation ===\n",
        "mean_return = spy['Strategy_Returns'].mean()\n",
        "std_return = spy['Strategy_Returns'].std()\n",
        "sharpe_ratio = (mean_return / std_return) * np.sqrt(52)  # annualized weekly Sharpe\n",
        "\n",
        "# === 7. Plot ===\n",
        "plt.figure(figsize=(12, 6))\n",
        "plt.plot(spy.index, spy['Strategy_Value'], label='Mean Reversion Strategy')\n",
        "plt.plot(spy.index, spy['Market_Value'], label='Buy & Hold (SPY)', linestyle='--')\n",
        "plt.title('📈 SPY Mean Reversion Strategy vs Market ($5,000 Investment)')\n",
        "plt.xlabel('Date')\n",
        "plt.ylabel('Portfolio Value ($)')\n",
        "plt.legend()\n",
        "plt.grid(True)\n",
        "plt.tight_layout()\n",
        "plt.show()\n",
        "\n",
        "# === 8. Summary ===\n",
        "final_strategy = spy['Strategy_Value'].iloc[-1]\n",
        "final_market = spy['Market_Value'].iloc[-1]\n",
        "pnl_strategy = final_strategy - investment_amount\n",
        "pnl_market = final_market - investment_amount\n",
        "\n",
        "print(\"\\n🧾 Strategy Summary:\")\n",
        "print(f\"  ➤ Final Strategy Value: ${final_strategy:,.2f}\")\n",
        "print(f\"  ➤ Final Market Value: ${final_market:,.2f}\")\n",
        "print(f\"  ➤ Strategy P&L: ${pnl_strategy:,.2f}\")\n",
        "print(f\"  ➤ Market P&L: ${pnl_market:,.2f}\")\n",
        "print(f\"  ➤ Sharpe Ratio: {sharpe_ratio:.2f} (Target: {target_sharpe})\")\n",
        "\n",
        "if sharpe_ratio >= target_sharpe:\n",
        "    print(\"✅ Sharpe ratio goal achieved!\")\n",
        "else:\n",
        "    print(\"⚠️ Sharpe ratio below target. Consider tweaking the strategy.\")\n"
      ]
    }
  ]
}